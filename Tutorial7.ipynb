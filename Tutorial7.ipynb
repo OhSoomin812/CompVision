{
 "cells": [
  {
   "cell_type": "markdown",
   "metadata": {},
   "source": [
    "# For Loops 1\n",
    "##  For-each is Python’s only form of for loop\n",
    "##  A for loop steps through each of the items in a collection\n",
    "## type, or any other type of object which is “iterable”"
   ]
  },
  {
   "cell_type": "code",
   "execution_count": 1,
   "metadata": {},
   "outputs": [
    {
     "ename": "SyntaxError",
     "evalue": "invalid syntax (<ipython-input-1-2ab7a0139bde>, line 1)",
     "output_type": "error",
     "traceback": [
      "\u001b[1;36m  File \u001b[1;32m\"<ipython-input-1-2ab7a0139bde>\"\u001b[1;36m, line \u001b[1;32m1\u001b[0m\n\u001b[1;33m    for <item> in <collection> :\u001b[0m\n\u001b[1;37m        ^\u001b[0m\n\u001b[1;31mSyntaxError\u001b[0m\u001b[1;31m:\u001b[0m invalid syntax\n"
     ]
    }
   ],
   "source": [
    "for <item> in <collection> :\n",
    "    <statements>"
   ]
  },
  {
   "cell_type": "markdown",
   "metadata": {},
   "source": [
    "##  If <(collection)> is a list or a tuple, then the loop steps\n",
    "## through each element of the sequence.\n",
    "\n",
    "##  If <(collection)>, then the loop steps through each\n",
    "## character of the string."
   ]
  },
  {
   "cell_type": "code",
   "execution_count": 1,
   "metadata": {},
   "outputs": [
    {
     "ename": "SyntaxError",
     "evalue": "Missing parentheses in call to 'print'. Did you mean print(someChar)? (<ipython-input-1-3066b3a7cc6b>, line 2)",
     "output_type": "error",
     "traceback": [
      "\u001b[1;36m  File \u001b[1;32m\"<ipython-input-1-3066b3a7cc6b>\"\u001b[1;36m, line \u001b[1;32m2\u001b[0m\n\u001b[1;33m    print someChar\u001b[0m\n\u001b[1;37m          ^\u001b[0m\n\u001b[1;31mSyntaxError\u001b[0m\u001b[1;31m:\u001b[0m Missing parentheses in call to 'print'. Did you mean print(someChar)?\n"
     ]
    }
   ],
   "source": [
    "for someChar in \"Hello World\":\n",
    "    print someChar"
   ]
  },
  {
   "cell_type": "markdown",
   "metadata": {},
   "source": [
    "# For Loops 2\n",
    "# for <(item)> in <(collection)>:\n",
    "# (<statements)>\n",
    "\n",
    "##  <(item)> can be more complex than a single variable name.\n",
    "##  If the elements of <(collection)> are themselves collections,\n",
    "## then <(item)> can match the structure of the elements. (We\n",
    "## saw something similar with list comprehensions and with\n",
    "## ordinary assignments.)"
   ]
  },
  {
   "cell_type": "code",
   "execution_count": 2,
   "metadata": {},
   "outputs": [
    {
     "ename": "SyntaxError",
     "evalue": "Missing parentheses in call to 'print'. Did you mean print(x)? (<ipython-input-2-b1fd916312f0>, line 2)",
     "output_type": "error",
     "traceback": [
      "\u001b[1;36m  File \u001b[1;32m\"<ipython-input-2-b1fd916312f0>\"\u001b[1;36m, line \u001b[1;32m2\u001b[0m\n\u001b[1;33m    print x\u001b[0m\n\u001b[1;37m          ^\u001b[0m\n\u001b[1;31mSyntaxError\u001b[0m\u001b[1;31m:\u001b[0m Missing parentheses in call to 'print'. Did you mean print(x)?\n"
     ]
    }
   ],
   "source": [
    "for (X, y) in [(a,1), (b,2), (c,3), (d,4)] :\n",
    "    print x"
   ]
  },
  {
   "cell_type": "markdown",
   "metadata": {},
   "source": [
    "# For loops and the range() function\n",
    "##  We often want to write a loop where the variables ranges\n",
    "## over some sequence of numbers. The range() function\n",
    "## returns a list of numbers from 0 up to but not including the\n",
    "## number we pass to it.\n",
    "\n",
    "##  range(5) returns [0,1,2,3,4]\n",
    "##  So we can say:"
   ]
  },
  {
   "cell_type": "code",
   "execution_count": 4,
   "metadata": {},
   "outputs": [
    {
     "ename": "SyntaxError",
     "evalue": "Missing parentheses in call to 'print'. Did you mean print(x)? (<ipython-input-4-2c70a6cf4cc2>, line 2)",
     "output_type": "error",
     "traceback": [
      "\u001b[1;36m  File \u001b[1;32m\"<ipython-input-4-2c70a6cf4cc2>\"\u001b[1;36m, line \u001b[1;32m2\u001b[0m\n\u001b[1;33m    print x\u001b[0m\n\u001b[1;37m          ^\u001b[0m\n\u001b[1;31mSyntaxError\u001b[0m\u001b[1;31m:\u001b[0m Missing parentheses in call to 'print'. Did you mean print(x)?\n"
     ]
    }
   ],
   "source": [
    "for x in range(5) :\n",
    "    print x"
   ]
  },
  {
   "cell_type": "markdown",
   "metadata": {},
   "source": [
    "##  (There are several other forms of range() that provide\n",
    "## variants of this functionality...)\n",
    "##  xrange() returns an iterator that provides the same\n",
    "## functionality more efficiently"
   ]
  },
  {
   "cell_type": "markdown",
   "metadata": {},
   "source": [
    "# Abuse of the range() function\n",
    "##  Don't use range() to iterate over a sequence solely to have\n",
    "## the index and elements available at the same time\n",
    "\n",
    "##  Avoid:\n"
   ]
  },
  {
   "cell_type": "code",
   "execution_count": 5,
   "metadata": {},
   "outputs": [
    {
     "ename": "SyntaxError",
     "evalue": "Missing parentheses in call to 'print'. Did you mean print(i, mylist[i])? (<ipython-input-5-be7922b7320e>, line 2)",
     "output_type": "error",
     "traceback": [
      "\u001b[1;36m  File \u001b[1;32m\"<ipython-input-5-be7922b7320e>\"\u001b[1;36m, line \u001b[1;32m2\u001b[0m\n\u001b[1;33m    print i, mylist[i]\u001b[0m\n\u001b[1;37m          ^\u001b[0m\n\u001b[1;31mSyntaxError\u001b[0m\u001b[1;31m:\u001b[0m Missing parentheses in call to 'print'. Did you mean print(i, mylist[i])?\n"
     ]
    }
   ],
   "source": [
    "for i in range(len(mylist)) :\n",
    "    print i, mylist[i]"
   ]
  },
  {
   "cell_type": "markdown",
   "metadata": {},
   "source": [
    "##  Instead:"
   ]
  },
  {
   "cell_type": "code",
   "execution_count": null,
   "metadata": {},
   "outputs": [],
   "source": [
    "for (i, item) in enumerate(mylist) :\n",
    "    print i, item"
   ]
  }
 ],
 "metadata": {
  "kernelspec": {
   "display_name": "Python 3",
   "language": "python",
   "name": "python3"
  },
  "language_info": {
   "codemirror_mode": {
    "name": "ipython",
    "version": 3
   },
   "file_extension": ".py",
   "mimetype": "text/x-python",
   "name": "python",
   "nbconvert_exporter": "python",
   "pygments_lexer": "ipython3",
   "version": "3.8.3"
  }
 },
 "nbformat": 4,
 "nbformat_minor": 4
}
