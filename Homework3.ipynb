{
 "cells": [
  {
   "cell_type": "code",
   "execution_count": 20,
   "metadata": {},
   "outputs": [],
   "source": [
    "import numpy as np\n",
    "import cv2"
   ]
  },
  {
   "cell_type": "code",
   "execution_count": 24,
   "metadata": {},
   "outputs": [],
   "source": [
    "img1= cv2.imread('sIMG_8254.jpg',1)\n",
    "gray1 = cv2.cvtColor(img1, cv2.COLOR_BGR2GRAY)\n",
    "\n",
    "gray_blur1 = cv2.GaussianBlur(gray1, (15, 15), 0)\n",
    "thresh1 = cv2.adaptiveThreshold(gray_blur1, 255, cv2.ADAPTIVE_THRESH_GAUSSIAN_C,cv2.THRESH_BINARY_INV, 11, 1)\n",
    "\n",
    "kernel = np.ones((3, 3), np.uint8)\n",
    "closing = cv2.morphologyEx(thresh1, cv2.MORPH_CLOSE, kernel, iterations=4)\n",
    "\n",
    "cont_img1 = closing.copy()\n",
    "contours, hierarchy = cv2.findContours(cont_img1, cv2.RETR_EXTERNAL, cv2.CHAIN_APPROX_SIMPLE)\n",
    "\n",
    "for cnt in contours:\n",
    "    area = cv2.contourArea(cnt)\n",
    "    if area < 2000 or area > 4000:\n",
    "        continue\n",
    "        \n",
    "    if len(cnt) < 5:\n",
    "        continue\n",
    "        \n",
    "    ellipse = cv2.fitEllipse(cnt)\n",
    "    cv2.ellipse(img1, ellipse, (0,255,0), 2)\n",
    "\n",
    "cv2.imshow(\"Morphological Closing\", closing)\n",
    "cv2.imshow(\"Adaptive Thresholding\", thresh1)\n",
    "cv2.imshow('Contours', img1)\n",
    "\n",
    "cv2.waitKey(0)\n",
    "cv2.destroyAllWindows()"
   ]
  },
  {
   "cell_type": "code",
   "execution_count": 25,
   "metadata": {},
   "outputs": [],
   "source": [
    "img2 = cv2.imread('sIMG_8253.jpg',1)\n",
    "gray2 = cv2.cvtColor(img2, cv2.COLOR_BGR2GRAY)\n",
    "\n",
    "gray_blur2 = cv2.GaussianBlur(gray2, (15, 15), 0)\n",
    "thresh2 = cv2.adaptiveThreshold(gray_blur2, 255, cv2.ADAPTIVE_THRESH_GAUSSIAN_C,cv2.THRESH_BINARY_INV, 11, 1)\n",
    "\n",
    "kernel = np.ones((3, 3), np.uint8)\n",
    "closing = cv2.morphologyEx(thresh2, cv2.MORPH_CLOSE, kernel, iterations=4)\n",
    "\n",
    "cont_img2 = closing.copy()\n",
    "contours, hierarchy = cv2.findContours(cont_img2, cv2.RETR_EXTERNAL, cv2.CHAIN_APPROX_SIMPLE)\n",
    "\n",
    "for cnt in contours:\n",
    "    area = cv2.contourArea(cnt)\n",
    "    if area < 2000 or area > 4000:\n",
    "        continue\n",
    "        \n",
    "    if len(cnt) < 5:\n",
    "        continue\n",
    "        \n",
    "    ellipse = cv2.fitEllipse(cnt)\n",
    "    cv2.ellipse(img2, ellipse, (0,255,0), 2)\n",
    "\n",
    "cv2.imshow(\"Morphological Closing\", closing)\n",
    "cv2.imshow(\"Adaptive Thresholding\", thresh2)\n",
    "cv2.imshow('Contours', img2)\n",
    "\n",
    "cv2.waitKey(0)\n",
    "cv2.destroyAllWindows()"
   ]
  },
  {
   "cell_type": "code",
   "execution_count": null,
   "metadata": {},
   "outputs": [],
   "source": []
  }
 ],
 "metadata": {
  "kernelspec": {
   "display_name": "Python 3",
   "language": "python",
   "name": "python3"
  },
  "language_info": {
   "codemirror_mode": {
    "name": "ipython",
    "version": 3
   },
   "file_extension": ".py",
   "mimetype": "text/x-python",
   "name": "python",
   "nbconvert_exporter": "python",
   "pygments_lexer": "ipython3",
   "version": "3.8.3"
  }
 },
 "nbformat": 4,
 "nbformat_minor": 4
}
